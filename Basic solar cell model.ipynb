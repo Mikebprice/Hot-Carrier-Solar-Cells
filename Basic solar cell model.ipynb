{
 "cells": [
  {
   "cell_type": "code",
   "execution_count": null,
   "metadata": {
    "collapsed": true
   },
   "outputs": [],
   "source": [
    "# import libraries\n",
    "import math\n",
    "import scipy\n",
    "import numpy as np\n",
    "import matplotlib as mpl\n",
    "import matplotlib.pyplot as plt\n",
    "import scipy.integrate as integrate\n",
    "%matplotlib inline"
   ]
  },
  {
   "cell_type": "code",
   "execution_count": null,
   "metadata": {
    "collapsed": true
   },
   "outputs": [],
   "source": [
    "# constants in SI\n",
    "m = 9.10938291E-31 # mass of electron\n",
    "q = 1.60217657E-19 # charge of electron\n",
    "ε = 8.85418782E-12 # permittivity of free space\n",
    "h = 6.62606957E-34 # plancks magical number\n",
    "hbar = 1.054571800E-34 # reduced planck\n",
    "Rydberg = 2.1787E-18 # Rydberg energy (in joules)\n",
    "avogadro = 6.02214179E23\n",
    "\n",
    "# units in SI\n",
    "Å = 1E-10 # m to angstrom\n",
    "k = 1.38064852E-23"
   ]
  },
  {
   "cell_type": "markdown",
   "metadata": {},
   "source": [
    "Start by modelling light incident on solar cell (it is a black body at 5760 Kelvin)\n",
    "\n",
    "$\\int_{E_{g}}^{\\infty} \\frac{2\\Omega}{h^{3}c^{2}}\\frac{E^{2}dE}{e^{ E/kT_{s}}-1}$"
   ]
  },
  {
   "cell_type": "code",
   "execution_count": 5,
   "metadata": {},
   "outputs": [],
   "source": [
    "Sigma = 6.8e-3 #solid angle of light, dependent upon concentration\n",
    "T_s = 5760\n",
    "E_g = 1.52 #WSe2 (need to confirm)"
   ]
  },
  {
   "cell_type": "code",
   "execution_count": null,
   "metadata": {
    "collapsed": true
   },
   "outputs": [],
   "source": []
  }
 ],
 "metadata": {
  "kernelspec": {
   "display_name": "Python 3",
   "language": "python",
   "name": "python3"
  },
  "language_info": {
   "codemirror_mode": {
    "name": "ipython",
    "version": 3
   },
   "file_extension": ".py",
   "mimetype": "text/x-python",
   "name": "python",
   "nbconvert_exporter": "python",
   "pygments_lexer": "ipython3",
   "version": "3.6.2"
  }
 },
 "nbformat": 4,
 "nbformat_minor": 2
}
